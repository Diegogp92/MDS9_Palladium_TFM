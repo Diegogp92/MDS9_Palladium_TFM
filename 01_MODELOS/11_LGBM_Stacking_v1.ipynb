{
 "cells": [
  {
   "cell_type": "markdown",
   "id": "7dcd6744",
   "metadata": {},
   "source": [
    "#### Preparativos"
   ]
  },
  {
   "cell_type": "code",
   "execution_count": 2,
   "id": "6ab6b4d4",
   "metadata": {},
   "outputs": [
    {
     "name": "stdout",
     "output_type": "stream",
     "text": [
      "Requirement already satisfied: lightgbm in c:\\programdata\\anaconda3\\lib\\site-packages (4.6.0)\n",
      "Requirement already satisfied: numpy>=1.17.0 in c:\\users\\diego\\appdata\\roaming\\python\\python312\\site-packages (from lightgbm) (2.1.3)\n",
      "Requirement already satisfied: scipy in c:\\users\\diego\\appdata\\roaming\\python\\python312\\site-packages (from lightgbm) (1.15.2)\n"
     ]
    }
   ],
   "source": [
    "# Instalaciones\n",
    "!pip install lightgbm"
   ]
  },
  {
   "cell_type": "code",
   "execution_count": 32,
   "id": "932619c5",
   "metadata": {},
   "outputs": [],
   "source": [
    "# Importaciones\n",
    "\n",
    "import pandas as pd\n",
    "import numpy as np\n",
    "import matplotlib.pyplot as plt\n",
    "import seaborn as sns\n",
    "\n",
    "from sklearn.model_selection import KFold, StratifiedKFold, GridSearchCV, cross_val_score, train_test_split\n",
    "from sklearn.ensemble import StackingClassifier\n",
    "from sklearn.metrics import accuracy_score, confusion_matrix, ConfusionMatrixDisplay\n",
    "\n",
    "import lightgbm as lgb\n",
    "from lightgbm import LGBMClassifier\n",
    "\n",
    "import time\n",
    "import joblib\n",
    "import pickle"
   ]
  },
  {
   "cell_type": "code",
   "execution_count": 5,
   "id": "893abe14",
   "metadata": {},
   "outputs": [],
   "source": [
    "# Deslimitar/Limitar display Pandas\n",
    "\n",
    "pd.set_option('display.max_columns', None)\n",
    "pd.set_option('display.max_rows', 300)\n",
    "pd.set_option('display.max_colwidth', None)"
   ]
  },
  {
   "cell_type": "markdown",
   "id": "fede10cd",
   "metadata": {},
   "source": [
    "#### Preparación del Dataset"
   ]
  },
  {
   "cell_type": "code",
   "execution_count": 6,
   "id": "8e95cdbd",
   "metadata": {},
   "outputs": [],
   "source": [
    "df0 = pd.read_csv(r'D:\\DEV\\Python\\00_TFM_PALLADIUM\\02_DATASETS_GENERADOS\\Reservas_Stacking.csv', sep=';')"
   ]
  },
  {
   "cell_type": "code",
   "execution_count": 7,
   "id": "eca9d16c",
   "metadata": {},
   "outputs": [
    {
     "data": {
      "text/html": [
       "<div>\n",
       "<style scoped>\n",
       "    .dataframe tbody tr th:only-of-type {\n",
       "        vertical-align: middle;\n",
       "    }\n",
       "\n",
       "    .dataframe tbody tr th {\n",
       "        vertical-align: top;\n",
       "    }\n",
       "\n",
       "    .dataframe thead th {\n",
       "        text-align: right;\n",
       "    }\n",
       "</style>\n",
       "<table border=\"1\" class=\"dataframe\">\n",
       "  <thead>\n",
       "    <tr style=\"text-align: right;\">\n",
       "      <th></th>\n",
       "      <th>HOTEL</th>\n",
       "      <th>LLEGADA_MES</th>\n",
       "      <th>LLEGADA_DIAm</th>\n",
       "      <th>LLEGADA_DIAs</th>\n",
       "      <th>LLEGADA_AVANCE</th>\n",
       "      <th>SALIDA_MES</th>\n",
       "      <th>SALIDA_DIAm</th>\n",
       "      <th>SALIDA_DIAs</th>\n",
       "      <th>SALIDA_AVANCE</th>\n",
       "      <th>NOCHES</th>\n",
       "      <th>DURACION_ESTANCIA</th>\n",
       "      <th>REGIMEN</th>\n",
       "      <th>TIPO</th>\n",
       "      <th>USO</th>\n",
       "      <th>PAX_NUM</th>\n",
       "      <th>PAX_CAT</th>\n",
       "      <th>ADULTOS</th>\n",
       "      <th>NENES</th>\n",
       "      <th>BEBES</th>\n",
       "      <th>TIPO_CLIENTE</th>\n",
       "      <th>CLIENTE</th>\n",
       "      <th>GRUPO</th>\n",
       "      <th>MONEDA</th>\n",
       "      <th>SUPLETORIA</th>\n",
       "      <th>CUNAS</th>\n",
       "      <th>FECHA_TOMA_MES</th>\n",
       "      <th>FECHA_TOMA_DIAm</th>\n",
       "      <th>FECHA_TOMA_DIAs</th>\n",
       "      <th>FECHA_TOMA_AVANCE</th>\n",
       "      <th>LT_TOMA_LLEGADA</th>\n",
       "      <th>FIDELIDAD</th>\n",
       "      <th>COMERCIALIZADORA</th>\n",
       "      <th>VALOR_USD</th>\n",
       "      <th>VALOR_USD_PAX</th>\n",
       "      <th>VALOR_USD_NOCHE</th>\n",
       "      <th>VALOR_USD_PAX_NOCHE</th>\n",
       "      <th>GRATIS</th>\n",
       "      <th>PAIS</th>\n",
       "      <th>CONTINENTE</th>\n",
       "      <th>SEGMENTO</th>\n",
       "      <th>FUENTE_NEGOCIO</th>\n",
       "      <th>CANCELADA</th>\n",
       "      <th>TAMANO_HOTEL</th>\n",
       "    </tr>\n",
       "  </thead>\n",
       "  <tbody>\n",
       "    <tr>\n",
       "      <th>0</th>\n",
       "      <td>GrandPalladiumJamaica&amp;LadyHamiltonResort</td>\n",
       "      <td>12</td>\n",
       "      <td>28</td>\n",
       "      <td>3</td>\n",
       "      <td>0.989041</td>\n",
       "      <td>1</td>\n",
       "      <td>4</td>\n",
       "      <td>3</td>\n",
       "      <td>0.008219</td>\n",
       "      <td>7</td>\n",
       "      <td>Media</td>\n",
       "      <td>AllInclusive</td>\n",
       "      <td>LHAmbassadorSuiteBSOV</td>\n",
       "      <td>2</td>\n",
       "      <td>3</td>\n",
       "      <td>Familias</td>\n",
       "      <td>2</td>\n",
       "      <td>1</td>\n",
       "      <td>0</td>\n",
       "      <td>1</td>\n",
       "      <td>PALLADIUMTRAVELCLUB_SOCIOS</td>\n",
       "      <td>0</td>\n",
       "      <td>USD</td>\n",
       "      <td>0</td>\n",
       "      <td>0</td>\n",
       "      <td>1</td>\n",
       "      <td>13</td>\n",
       "      <td>4</td>\n",
       "      <td>0.032877</td>\n",
       "      <td>349</td>\n",
       "      <td>Ninguna</td>\n",
       "      <td>0</td>\n",
       "      <td>2576.00</td>\n",
       "      <td>858.666667</td>\n",
       "      <td>368.00</td>\n",
       "      <td>122.666667</td>\n",
       "      <td>0</td>\n",
       "      <td>ESTADOSUNIDOS</td>\n",
       "      <td>AMERICA</td>\n",
       "      <td>Fixedrates</td>\n",
       "      <td>DIRECTSALES</td>\n",
       "      <td>0</td>\n",
       "      <td>Mediano</td>\n",
       "    </tr>\n",
       "    <tr>\n",
       "      <th>1</th>\n",
       "      <td>GrandPalladiumJamaica&amp;LadyHamiltonResort</td>\n",
       "      <td>1</td>\n",
       "      <td>22</td>\n",
       "      <td>6</td>\n",
       "      <td>0.057534</td>\n",
       "      <td>1</td>\n",
       "      <td>29</td>\n",
       "      <td>6</td>\n",
       "      <td>0.076712</td>\n",
       "      <td>7</td>\n",
       "      <td>Media</td>\n",
       "      <td>AllInclusive</td>\n",
       "      <td>LHJuniorSuiteGV</td>\n",
       "      <td>2</td>\n",
       "      <td>3</td>\n",
       "      <td>Familias</td>\n",
       "      <td>2</td>\n",
       "      <td>1</td>\n",
       "      <td>0</td>\n",
       "      <td>1</td>\n",
       "      <td>PALLADIUMTRAVELCLUB_SOCIOS</td>\n",
       "      <td>0</td>\n",
       "      <td>USD</td>\n",
       "      <td>0</td>\n",
       "      <td>0</td>\n",
       "      <td>7</td>\n",
       "      <td>13</td>\n",
       "      <td>2</td>\n",
       "      <td>0.528767</td>\n",
       "      <td>193</td>\n",
       "      <td>Ninguna</td>\n",
       "      <td>0</td>\n",
       "      <td>1994.30</td>\n",
       "      <td>664.766667</td>\n",
       "      <td>284.90</td>\n",
       "      <td>94.966667</td>\n",
       "      <td>0</td>\n",
       "      <td>ESTADOSUNIDOS</td>\n",
       "      <td>AMERICA</td>\n",
       "      <td>Fixedrates</td>\n",
       "      <td>DIRECTSALES</td>\n",
       "      <td>1</td>\n",
       "      <td>Mediano</td>\n",
       "    </tr>\n",
       "    <tr>\n",
       "      <th>2</th>\n",
       "      <td>ComplejoRivieraMaya</td>\n",
       "      <td>11</td>\n",
       "      <td>6</td>\n",
       "      <td>1</td>\n",
       "      <td>0.846575</td>\n",
       "      <td>11</td>\n",
       "      <td>14</td>\n",
       "      <td>2</td>\n",
       "      <td>0.868493</td>\n",
       "      <td>8</td>\n",
       "      <td>Media</td>\n",
       "      <td>AllInclusive</td>\n",
       "      <td>TRSJuniorSuitePS</td>\n",
       "      <td>2</td>\n",
       "      <td>2</td>\n",
       "      <td>Parejas</td>\n",
       "      <td>2</td>\n",
       "      <td>0</td>\n",
       "      <td>0</td>\n",
       "      <td>1</td>\n",
       "      <td>PALLADIUMTRAVELCLUB_SOCIOS</td>\n",
       "      <td>0</td>\n",
       "      <td>USD</td>\n",
       "      <td>0</td>\n",
       "      <td>0</td>\n",
       "      <td>4</td>\n",
       "      <td>17</td>\n",
       "      <td>1</td>\n",
       "      <td>0.290411</td>\n",
       "      <td>203</td>\n",
       "      <td>Ninguna</td>\n",
       "      <td>0</td>\n",
       "      <td>2305.60</td>\n",
       "      <td>1152.800000</td>\n",
       "      <td>288.20</td>\n",
       "      <td>144.100000</td>\n",
       "      <td>0</td>\n",
       "      <td>CANADA</td>\n",
       "      <td>AMERICA</td>\n",
       "      <td>Fixedrates</td>\n",
       "      <td>DIRECTSALES</td>\n",
       "      <td>1</td>\n",
       "      <td>Grande</td>\n",
       "    </tr>\n",
       "    <tr>\n",
       "      <th>3</th>\n",
       "      <td>ComplejoRivieraMaya</td>\n",
       "      <td>11</td>\n",
       "      <td>6</td>\n",
       "      <td>1</td>\n",
       "      <td>0.846575</td>\n",
       "      <td>11</td>\n",
       "      <td>23</td>\n",
       "      <td>4</td>\n",
       "      <td>0.893151</td>\n",
       "      <td>17</td>\n",
       "      <td>Larga</td>\n",
       "      <td>AllInclusive</td>\n",
       "      <td>TRSJuniorSuitePS</td>\n",
       "      <td>2</td>\n",
       "      <td>2</td>\n",
       "      <td>Parejas</td>\n",
       "      <td>2</td>\n",
       "      <td>0</td>\n",
       "      <td>0</td>\n",
       "      <td>1</td>\n",
       "      <td>PALLADIUMTRAVELCLUB_SOCIOS</td>\n",
       "      <td>0</td>\n",
       "      <td>USD</td>\n",
       "      <td>0</td>\n",
       "      <td>0</td>\n",
       "      <td>2</td>\n",
       "      <td>22</td>\n",
       "      <td>3</td>\n",
       "      <td>0.142466</td>\n",
       "      <td>257</td>\n",
       "      <td>Ninguna</td>\n",
       "      <td>0</td>\n",
       "      <td>4899.40</td>\n",
       "      <td>2449.700000</td>\n",
       "      <td>288.20</td>\n",
       "      <td>144.100000</td>\n",
       "      <td>0</td>\n",
       "      <td>ESTADOSUNIDOS</td>\n",
       "      <td>AMERICA</td>\n",
       "      <td>Fixedrates</td>\n",
       "      <td>DIRECTSALES</td>\n",
       "      <td>1</td>\n",
       "      <td>Grande</td>\n",
       "    </tr>\n",
       "    <tr>\n",
       "      <th>4</th>\n",
       "      <td>ComplejoRivieraMaya</td>\n",
       "      <td>11</td>\n",
       "      <td>25</td>\n",
       "      <td>6</td>\n",
       "      <td>0.898630</td>\n",
       "      <td>12</td>\n",
       "      <td>9</td>\n",
       "      <td>6</td>\n",
       "      <td>0.936986</td>\n",
       "      <td>14</td>\n",
       "      <td>Larga</td>\n",
       "      <td>AllInclusive</td>\n",
       "      <td>COLJuniorSuiteGV</td>\n",
       "      <td>1</td>\n",
       "      <td>1</td>\n",
       "      <td>Single</td>\n",
       "      <td>1</td>\n",
       "      <td>0</td>\n",
       "      <td>0</td>\n",
       "      <td>1</td>\n",
       "      <td>PALLADIUMTRAVELCLUB_SOCIOS</td>\n",
       "      <td>0</td>\n",
       "      <td>USD</td>\n",
       "      <td>0</td>\n",
       "      <td>0</td>\n",
       "      <td>2</td>\n",
       "      <td>17</td>\n",
       "      <td>5</td>\n",
       "      <td>0.128767</td>\n",
       "      <td>281</td>\n",
       "      <td>Ninguna</td>\n",
       "      <td>0</td>\n",
       "      <td>2435.02</td>\n",
       "      <td>2435.020000</td>\n",
       "      <td>173.93</td>\n",
       "      <td>173.930000</td>\n",
       "      <td>0</td>\n",
       "      <td>RUMANIA</td>\n",
       "      <td>EURESTE</td>\n",
       "      <td>Fixedrates</td>\n",
       "      <td>DIRECTSALES</td>\n",
       "      <td>1</td>\n",
       "      <td>Grande</td>\n",
       "    </tr>\n",
       "  </tbody>\n",
       "</table>\n",
       "</div>"
      ],
      "text/plain": [
       "                                      HOTEL  LLEGADA_MES  LLEGADA_DIAm  \\\n",
       "0  GrandPalladiumJamaica&LadyHamiltonResort           12            28   \n",
       "1  GrandPalladiumJamaica&LadyHamiltonResort            1            22   \n",
       "2                       ComplejoRivieraMaya           11             6   \n",
       "3                       ComplejoRivieraMaya           11             6   \n",
       "4                       ComplejoRivieraMaya           11            25   \n",
       "\n",
       "   LLEGADA_DIAs  LLEGADA_AVANCE  SALIDA_MES  SALIDA_DIAm  SALIDA_DIAs  \\\n",
       "0             3        0.989041           1            4            3   \n",
       "1             6        0.057534           1           29            6   \n",
       "2             1        0.846575          11           14            2   \n",
       "3             1        0.846575          11           23            4   \n",
       "4             6        0.898630          12            9            6   \n",
       "\n",
       "   SALIDA_AVANCE  NOCHES DURACION_ESTANCIA       REGIMEN  \\\n",
       "0       0.008219       7             Media  AllInclusive   \n",
       "1       0.076712       7             Media  AllInclusive   \n",
       "2       0.868493       8             Media  AllInclusive   \n",
       "3       0.893151      17             Larga  AllInclusive   \n",
       "4       0.936986      14             Larga  AllInclusive   \n",
       "\n",
       "                    TIPO  USO  PAX_NUM   PAX_CAT  ADULTOS  NENES  BEBES  \\\n",
       "0  LHAmbassadorSuiteBSOV    2        3  Familias        2      1      0   \n",
       "1        LHJuniorSuiteGV    2        3  Familias        2      1      0   \n",
       "2       TRSJuniorSuitePS    2        2   Parejas        2      0      0   \n",
       "3       TRSJuniorSuitePS    2        2   Parejas        2      0      0   \n",
       "4       COLJuniorSuiteGV    1        1    Single        1      0      0   \n",
       "\n",
       "   TIPO_CLIENTE                     CLIENTE  GRUPO MONEDA  SUPLETORIA  CUNAS  \\\n",
       "0             1  PALLADIUMTRAVELCLUB_SOCIOS      0    USD           0      0   \n",
       "1             1  PALLADIUMTRAVELCLUB_SOCIOS      0    USD           0      0   \n",
       "2             1  PALLADIUMTRAVELCLUB_SOCIOS      0    USD           0      0   \n",
       "3             1  PALLADIUMTRAVELCLUB_SOCIOS      0    USD           0      0   \n",
       "4             1  PALLADIUMTRAVELCLUB_SOCIOS      0    USD           0      0   \n",
       "\n",
       "   FECHA_TOMA_MES  FECHA_TOMA_DIAm  FECHA_TOMA_DIAs  FECHA_TOMA_AVANCE  \\\n",
       "0               1               13                4           0.032877   \n",
       "1               7               13                2           0.528767   \n",
       "2               4               17                1           0.290411   \n",
       "3               2               22                3           0.142466   \n",
       "4               2               17                5           0.128767   \n",
       "\n",
       "   LT_TOMA_LLEGADA FIDELIDAD  COMERCIALIZADORA  VALOR_USD  VALOR_USD_PAX  \\\n",
       "0              349   Ninguna                 0    2576.00     858.666667   \n",
       "1              193   Ninguna                 0    1994.30     664.766667   \n",
       "2              203   Ninguna                 0    2305.60    1152.800000   \n",
       "3              257   Ninguna                 0    4899.40    2449.700000   \n",
       "4              281   Ninguna                 0    2435.02    2435.020000   \n",
       "\n",
       "   VALOR_USD_NOCHE  VALOR_USD_PAX_NOCHE  GRATIS           PAIS CONTINENTE  \\\n",
       "0           368.00           122.666667       0  ESTADOSUNIDOS    AMERICA   \n",
       "1           284.90            94.966667       0  ESTADOSUNIDOS    AMERICA   \n",
       "2           288.20           144.100000       0         CANADA    AMERICA   \n",
       "3           288.20           144.100000       0  ESTADOSUNIDOS    AMERICA   \n",
       "4           173.93           173.930000       0        RUMANIA    EURESTE   \n",
       "\n",
       "     SEGMENTO FUENTE_NEGOCIO  CANCELADA TAMANO_HOTEL  \n",
       "0  Fixedrates    DIRECTSALES          0      Mediano  \n",
       "1  Fixedrates    DIRECTSALES          1      Mediano  \n",
       "2  Fixedrates    DIRECTSALES          1       Grande  \n",
       "3  Fixedrates    DIRECTSALES          1       Grande  \n",
       "4  Fixedrates    DIRECTSALES          1       Grande  "
      ]
     },
     "execution_count": 7,
     "metadata": {},
     "output_type": "execute_result"
    }
   ],
   "source": [
    "df0.head()"
   ]
  },
  {
   "cell_type": "code",
   "execution_count": 8,
   "id": "1541392a",
   "metadata": {},
   "outputs": [],
   "source": [
    "# Reconfigurar dtypes\n",
    "\n",
    "df0['HOTEL'] = df0['HOTEL'].astype('category', errors='raise')\n",
    "df0['LLEGADA_MES'] = pd.to_numeric(df0['LLEGADA_MES'], errors='raise').astype('category')\n",
    "df0['LLEGADA_DIAm'] = pd.to_numeric(df0['LLEGADA_DIAm'], errors='raise').astype('category')\n",
    "df0['LLEGADA_DIAs'] = pd.to_numeric(df0['LLEGADA_DIAs'], errors='raise').astype('category')\n",
    "df0['LLEGADA_AVANCE'] = pd.to_numeric(df0['LLEGADA_AVANCE'], errors='raise').astype(float)\n",
    "df0['SALIDA_MES'] = pd.to_numeric(df0['SALIDA_MES'], errors='raise').astype('category')\n",
    "df0['SALIDA_DIAm'] = pd.to_numeric(df0['SALIDA_DIAm'], errors='raise').astype('category')\n",
    "df0['SALIDA_DIAs'] = pd.to_numeric(df0['SALIDA_DIAs'], errors='raise').astype('category')\n",
    "df0['SALIDA_AVANCE'] = pd.to_numeric(df0['SALIDA_AVANCE'], errors='raise').astype(float)\n",
    "df0['NOCHES'] = pd.to_numeric(df0['NOCHES'], errors='raise').astype('Int64')\n",
    "df0['DURACION_ESTANCIA'] = df0['DURACION_ESTANCIA'].astype('category', errors='raise')\n",
    "df0['REGIMEN'] = df0['REGIMEN'].astype('category', errors='raise')\n",
    "df0['TIPO'] = df0['TIPO'].astype('category', errors='raise')\n",
    "df0['USO'] = pd.to_numeric(df0['USO'], errors='raise').astype('Int64')\n",
    "df0['PAX_NUM'] = pd.to_numeric(df0['PAX_NUM'], errors='raise').astype('Int64')\n",
    "df0['PAX_CAT'] = df0['PAX_CAT'].astype('category', errors='raise')\n",
    "df0['ADULTOS'] = pd.to_numeric(df0['ADULTOS'], errors='raise').astype('Int64')\n",
    "df0['NENES'] = pd.to_numeric(df0['NENES'], errors='raise').astype('Int64')\n",
    "df0['BEBES'] = pd.to_numeric(df0['BEBES'], errors='raise').astype('Int64')\n",
    "df0['TIPO_CLIENTE'] = pd.to_numeric(df0['TIPO_CLIENTE'], errors='raise').astype('category')\n",
    "df0['CLIENTE'] = df0['CLIENTE'].astype('category', errors='raise')\n",
    "df0['GRUPO'] = pd.to_numeric(df0['GRUPO'], errors='raise').astype('category')\n",
    "df0['MONEDA'] = df0['MONEDA'].astype('category', errors='raise')\n",
    "df0['SUPLETORIA'] = pd.to_numeric(df0['SUPLETORIA'], errors='raise').astype('Int64')\n",
    "df0['CUNAS'] = pd.to_numeric(df0['CUNAS'], errors='raise').astype('Int64')\n",
    "df0['FECHA_TOMA_MES'] = pd.to_numeric(df0['FECHA_TOMA_MES'], errors='raise').astype('category')\n",
    "df0['FECHA_TOMA_DIAm'] = pd.to_numeric(df0['FECHA_TOMA_DIAm'], errors='raise').astype('category')\n",
    "df0['FECHA_TOMA_DIAs'] = pd.to_numeric(df0['FECHA_TOMA_DIAs'], errors='raise').astype('category')\n",
    "df0['FECHA_TOMA_AVANCE'] = pd.to_numeric(df0['FECHA_TOMA_AVANCE'], errors='raise').astype(float)\n",
    "df0['LT_TOMA_LLEGADA'] = pd.to_numeric(df0['LT_TOMA_LLEGADA'], errors='raise').astype('Int64')\n",
    "df0['FIDELIDAD'] = df0['FIDELIDAD'].astype('category', errors='raise')\n",
    "df0['COMERCIALIZADORA'] = pd.to_numeric(df0['COMERCIALIZADORA'], errors='raise').astype('category')\n",
    "df0['VALOR_USD'] = pd.to_numeric(df0['VALOR_USD'], errors='raise').astype(float)\n",
    "df0['VALOR_USD_PAX'] = pd.to_numeric(df0['VALOR_USD_PAX'], errors='raise').astype(float)\n",
    "df0['VALOR_USD_NOCHE'] = pd.to_numeric(df0['VALOR_USD_NOCHE'], errors='raise').astype(float)\n",
    "df0['VALOR_USD_PAX_NOCHE'] = pd.to_numeric(df0['VALOR_USD_PAX_NOCHE'], errors='raise').astype(float)\n",
    "df0['GRATIS'] = pd.to_numeric(df0['GRATIS'], errors='raise').astype('category')\n",
    "df0['PAIS'] = df0['PAIS'].astype('category', errors='raise')\n",
    "df0['CONTINENTE'] = df0['CONTINENTE'].astype('category', errors='raise')\n",
    "df0['SEGMENTO'] = df0['SEGMENTO'].astype('category', errors='raise')\n",
    "df0['FUENTE_NEGOCIO'] = df0['FUENTE_NEGOCIO'].astype('category', errors='raise')\n",
    "df0['CANCELADA'] = pd.to_numeric(df0['CANCELADA'], errors='raise').astype('category')\n",
    "df0['TAMANO_HOTEL'] = df0['TAMANO_HOTEL'].astype('category', errors='raise')"
   ]
  },
  {
   "cell_type": "code",
   "execution_count": 9,
   "id": "107bc07d",
   "metadata": {},
   "outputs": [
    {
     "name": "stdout",
     "output_type": "stream",
     "text": [
      "<class 'pandas.core.frame.DataFrame'>\n",
      "RangeIndex: 1139289 entries, 0 to 1139288\n",
      "Data columns (total 43 columns):\n",
      " #   Column               Non-Null Count    Dtype   \n",
      "---  ------               --------------    -----   \n",
      " 0   HOTEL                1139289 non-null  category\n",
      " 1   LLEGADA_MES          1139289 non-null  category\n",
      " 2   LLEGADA_DIAm         1139289 non-null  category\n",
      " 3   LLEGADA_DIAs         1139289 non-null  category\n",
      " 4   LLEGADA_AVANCE       1139289 non-null  float64 \n",
      " 5   SALIDA_MES           1139289 non-null  category\n",
      " 6   SALIDA_DIAm          1139289 non-null  category\n",
      " 7   SALIDA_DIAs          1139289 non-null  category\n",
      " 8   SALIDA_AVANCE        1139289 non-null  float64 \n",
      " 9   NOCHES               1139289 non-null  Int64   \n",
      " 10  DURACION_ESTANCIA    1139289 non-null  category\n",
      " 11  REGIMEN              1139289 non-null  category\n",
      " 12  TIPO                 1139289 non-null  category\n",
      " 13  USO                  1139289 non-null  Int64   \n",
      " 14  PAX_NUM              1139289 non-null  Int64   \n",
      " 15  PAX_CAT              1139289 non-null  category\n",
      " 16  ADULTOS              1139289 non-null  Int64   \n",
      " 17  NENES                1139289 non-null  Int64   \n",
      " 18  BEBES                1139289 non-null  Int64   \n",
      " 19  TIPO_CLIENTE         1139289 non-null  category\n",
      " 20  CLIENTE              1139289 non-null  category\n",
      " 21  GRUPO                1139289 non-null  category\n",
      " 22  MONEDA               1139289 non-null  category\n",
      " 23  SUPLETORIA           1139289 non-null  Int64   \n",
      " 24  CUNAS                1139289 non-null  Int64   \n",
      " 25  FECHA_TOMA_MES       1139289 non-null  category\n",
      " 26  FECHA_TOMA_DIAm      1139289 non-null  category\n",
      " 27  FECHA_TOMA_DIAs      1139289 non-null  category\n",
      " 28  FECHA_TOMA_AVANCE    1139289 non-null  float64 \n",
      " 29  LT_TOMA_LLEGADA      1139289 non-null  Int64   \n",
      " 30  FIDELIDAD            1139289 non-null  category\n",
      " 31  COMERCIALIZADORA     1139289 non-null  category\n",
      " 32  VALOR_USD            1139289 non-null  float64 \n",
      " 33  VALOR_USD_PAX        1139289 non-null  float64 \n",
      " 34  VALOR_USD_NOCHE      1139289 non-null  float64 \n",
      " 35  VALOR_USD_PAX_NOCHE  1139289 non-null  float64 \n",
      " 36  GRATIS               1139289 non-null  category\n",
      " 37  PAIS                 1139289 non-null  category\n",
      " 38  CONTINENTE           1139289 non-null  category\n",
      " 39  SEGMENTO             1139289 non-null  category\n",
      " 40  FUENTE_NEGOCIO       1139289 non-null  category\n",
      " 41  CANCELADA            1139289 non-null  category\n",
      " 42  TAMANO_HOTEL         1139289 non-null  category\n",
      "dtypes: Int64(9), category(27), float64(7)\n",
      "memory usage: 181.5 MB\n"
     ]
    }
   ],
   "source": [
    "df0.info()"
   ]
  },
  {
   "cell_type": "markdown",
   "id": "aa4c6071",
   "metadata": {},
   "source": [
    "#### Segmentación por TAMANO_HOTEL"
   ]
  },
  {
   "cell_type": "code",
   "execution_count": 10,
   "id": "44c9acab",
   "metadata": {},
   "outputs": [],
   "source": [
    "# Antes de nada separamos DF para los 3 entrenamientos y optimizaciones distintas\n",
    "# Luego, separamos sus train y test, para no tocar los tests para absolutamente nada salgo evaluar\n",
    "\n",
    "df_G = df0.loc[df0['TAMANO_HOTEL'] == 'Grande']\n",
    "df_M = df0.loc[df0['TAMANO_HOTEL'] == 'Mediano']\n",
    "df_P = df0.loc[df0['TAMANO_HOTEL'] == 'Pequeno']\n",
    "\n",
    "X_G = df_G.drop(columns=[\"CANCELADA\",\"TAMANO_HOTEL\"])\n",
    "y_G = df_G[\"CANCELADA\"]\n",
    "X_G_train, X_G_test, y_G_train, y_G_test = train_test_split(X_G, y_G, test_size=0.2, random_state=42)\n",
    "\n",
    "X_M = df_M.drop(columns=[\"CANCELADA\",\"TAMANO_HOTEL\"])\n",
    "y_M = df_M[\"CANCELADA\"]\n",
    "X_M_train, X_M_test, y_M_train, y_M_test = train_test_split(X_M, y_M, test_size=0.2, random_state=42)\n",
    "\n",
    "X_P = df_P.drop(columns=[\"CANCELADA\",\"TAMANO_HOTEL\"])\n",
    "y_P = df_P[\"CANCELADA\"]\n",
    "X_P_train, X_P_test, y_P_train, y_P_test = train_test_split(X_P, y_P, test_size=0.2, random_state=42)"
   ]
  },
  {
   "cell_type": "markdown",
   "id": "3cf2ac5e",
   "metadata": {},
   "source": [
    "#### Común Modelos"
   ]
  },
  {
   "cell_type": "code",
   "execution_count": 11,
   "id": "93ee938e",
   "metadata": {},
   "outputs": [],
   "source": [
    "# Preparación de la validación cruzada\n",
    "kf = KFold(n_splits=5, shuffle=True, random_state=42)"
   ]
  },
  {
   "cell_type": "markdown",
   "id": "58e3879a",
   "metadata": {},
   "source": [
    "#### Modelo Grande"
   ]
  },
  {
   "cell_type": "code",
   "execution_count": 12,
   "id": "8159c009",
   "metadata": {},
   "outputs": [],
   "source": [
    "# La optimización de hiperparámetros en bucle se ha hecho imposible por el gran tamaño del dataset y las limitaciones temporales y de HW\n",
    "# Se han ido explorando hiperparámetros cambiando uno cada vez hasta llegar a un punto de optimización moderada, eso sí, siempre con validación cruzada de 5 KF\n",
    "# Se perseguirá la mayor accuracy en test posible, la gran accuracy en train no deberá alarmarnos si la primera mejora. Además, con la VC no debería suponer problemas de generalización\n",
    "# Se incluye sólo la última versión de cada modelo"
   ]
  },
  {
   "cell_type": "code",
   "execution_count": 13,
   "id": "39027066",
   "metadata": {},
   "outputs": [],
   "source": [
    "# Objetivo a mejorar, la accuracy del modelo general sólo para estos hoteles\n",
    "# Que fue de un 0.824905347 (Obtenido con subtotales en Excel)"
   ]
  },
  {
   "cell_type": "code",
   "execution_count": 14,
   "id": "83be5013",
   "metadata": {},
   "outputs": [
    {
     "name": "stdout",
     "output_type": "stream",
     "text": [
      "Fitting 5 folds for each of 1 candidates, totalling 5 fits\n",
      "[LightGBM] [Warning] Categorical features with more bins than the configured maximum bin number found.\n",
      "[LightGBM] [Warning] For categorical features, max_bin and max_bin_by_feature may be ignored with a large number of categories.\n",
      "[LightGBM] [Info] Number of positive: 200036, number of negative: 339623\n",
      "[LightGBM] [Info] Auto-choosing row-wise multi-threading, the overhead of testing was 0.042723 seconds.\n",
      "You can set `force_row_wise=true` to remove the overhead.\n",
      "And if memory is not enough, you can set `force_col_wise=true`.\n",
      "[LightGBM] [Info] Total Bins 2883\n",
      "[LightGBM] [Info] Number of data points in the train set: 539659, number of used features: 41\n",
      "[LightGBM] [Info] [binary:BoostFromScore]: pavg=0.370671 -> initscore=-0.529339\n",
      "[LightGBM] [Info] Start training from score -0.529339\n",
      "Best HyperParameters: {'learning_rate': 0.25, 'max_depth': 25, 'n_estimators': 15000, 'num_leaves': 75, 'reg_alpha': 0.5, 'reg_lambda': 0.5}\n",
      "Accuracy Test     : 0.8310714153355817\n"
     ]
    }
   ],
   "source": [
    "# v12\n",
    "\n",
    "modelo_lgbm_Grande = LGBMClassifier(\n",
    "    objective = 'binary',\n",
    "    random_state=42,\n",
    ")\n",
    "\n",
    "param_grid_lgbm_Grande = {\n",
    "    'n_estimators': [15000],\n",
    "    'max_depth': [25],\n",
    "    'learning_rate': [0.25],\n",
    "    'num_leaves': [75],\n",
    "    'reg_alpha': [0.5],\n",
    "    'reg_lambda': [0.5],\n",
    "}\n",
    "\n",
    "grid_search_lgbm_Grande = GridSearchCV(\n",
    "    estimator=modelo_lgbm_Grande,\n",
    "    param_grid=param_grid_lgbm_Grande,\n",
    "    cv=kf,\n",
    "    scoring=\"accuracy\",\n",
    "    n_jobs=-1,\n",
    "    verbose=3,\n",
    "    )\n",
    "\n",
    "grid_search_lgbm_Grande.fit(X_G_train, y_G_train)\n",
    "print(f\"Best HyperParameters: {grid_search_lgbm_Grande.best_params_}\")\n",
    "\n",
    "# Asignar mejor estimador al modelo\n",
    "modelo_lgbm_Grande = grid_search_lgbm_Grande.best_estimator_\n",
    "\n",
    "# Resultados sobre test\n",
    "y_G_test_pred = modelo_lgbm_Grande.predict(X_G_test)\n",
    "accuracy_test = accuracy_score(y_G_test, y_G_test_pred)\n",
    "print(\"Accuracy Test     :\", accuracy_test)"
   ]
  },
  {
   "cell_type": "code",
   "execution_count": 15,
   "id": "ea812e91",
   "metadata": {},
   "outputs": [],
   "source": [
    "# Definición de función comprobadora del uso de hiperparámetros:\n",
    "\n",
    "def get_tree_stats(tree, depth=0):\n",
    "    # Si es una hoja\n",
    "    if 'left_child' not in tree and 'right_child' not in tree:\n",
    "        return depth, 1  # profundidad, 1 hoja\n",
    "\n",
    "    # Recursión sobre hijos\n",
    "    left_depth, left_leaves = get_tree_stats(tree['left_child'], depth + 1) if 'left_child' in tree else (depth, 0)\n",
    "    right_depth, right_leaves = get_tree_stats(tree['right_child'], depth + 1) if 'right_child' in tree else (depth, 0)\n",
    "\n",
    "    max_depth = max(left_depth, right_depth)\n",
    "    total_leaves = left_leaves + right_leaves\n",
    "\n",
    "    return max_depth, total_leaves"
   ]
  },
  {
   "cell_type": "code",
   "execution_count": 16,
   "id": "4877b049",
   "metadata": {},
   "outputs": [
    {
     "name": "stdout",
     "output_type": "stream",
     "text": [
      "Número total de árboles             : 15000\n",
      "Profundidad máxima real alcanzada   : 21\n",
      "Profundidad promedio de los árboles : 12.90\n",
      "Máximo número de hojas en un árbol  : 75\n",
      "Promedio de hojas por árbol         : 75.00\n"
     ]
    }
   ],
   "source": [
    "# Extraer todos los árboles\n",
    "trees = modelo_lgbm_Grande.booster_.dump_model()['tree_info']\n",
    "\n",
    "# Calcular profundidad y hojas de cada árbol\n",
    "depths = []\n",
    "leaves = []\n",
    "for tree in trees:\n",
    "    depth, num_leaves = get_tree_stats(tree['tree_structure'])\n",
    "    depths.append(depth)\n",
    "    leaves.append(num_leaves)\n",
    "\n",
    "# Reporte\n",
    "print(f\"Número total de árboles             : {len(trees)}\")\n",
    "print(f\"Profundidad máxima real alcanzada   : {max(depths)}\")\n",
    "print(f\"Profundidad promedio de los árboles : {sum(depths) / len(depths):.2f}\")\n",
    "print(f\"Máximo número de hojas en un árbol  : {max(leaves)}\")\n",
    "print(f\"Promedio de hojas por árbol         : {sum(leaves) / len(leaves):.2f}\")"
   ]
  },
  {
   "cell_type": "code",
   "execution_count": 17,
   "id": "ca76d7c3",
   "metadata": {},
   "outputs": [
    {
     "name": "stdout",
     "output_type": "stream",
     "text": [
      "Tiempo medio por fila: 20.654 ms\n"
     ]
    }
   ],
   "source": [
    "# Mirar pred de una línea, no sea que no pueda correr en tiempo real\n",
    "# Ideal <10ms\n",
    "# Máximo 100ms\n",
    "# (16ms, estamos muy cerca del ideal)\n",
    "\n",
    "tiempos = []\n",
    "\n",
    "for i in range(len(X_G_test.head(1000))):\n",
    "    fila = X_G_test.iloc[[i]]\n",
    "    start = time.time()\n",
    "    _ = modelo_lgbm_Grande.predict(fila)\n",
    "    tiempos.append(time.time() - start)\n",
    "\n",
    "tiempo_medio = sum(tiempos) / len(tiempos)\n",
    "print(f\"Tiempo medio por fila: {tiempo_medio * 1000:.3f} ms\")"
   ]
  },
  {
   "cell_type": "markdown",
   "id": "0a26ef10",
   "metadata": {},
   "source": [
    "#### Modelo Mediano"
   ]
  },
  {
   "cell_type": "code",
   "execution_count": 18,
   "id": "c2107bd0",
   "metadata": {},
   "outputs": [],
   "source": [
    "# Objetivo a mejorar, la accuracy del modelo general sólo para estos hoteles\n",
    "# Que fue de un 0.786880037 (Obtenido con subtotales en Excel)"
   ]
  },
  {
   "cell_type": "code",
   "execution_count": 19,
   "id": "0f74ed73",
   "metadata": {},
   "outputs": [
    {
     "name": "stdout",
     "output_type": "stream",
     "text": [
      "Fitting 5 folds for each of 1 candidates, totalling 5 fits\n",
      "[LightGBM] [Info] Number of positive: 131145, number of negative: 183892\n",
      "[LightGBM] [Info] Auto-choosing row-wise multi-threading, the overhead of testing was 0.024262 seconds.\n",
      "You can set `force_row_wise=true` to remove the overhead.\n",
      "And if memory is not enough, you can set `force_col_wise=true`.\n",
      "[LightGBM] [Info] Total Bins 2692\n",
      "[LightGBM] [Info] Number of data points in the train set: 315037, number of used features: 40\n",
      "[LightGBM] [Info] [binary:BoostFromScore]: pavg=0.416284 -> initscore=-0.338045\n",
      "[LightGBM] [Info] Start training from score -0.338045\n",
      "Best HyperParameters: {'learning_rate': 0.15, 'max_depth': 25, 'n_estimators': 15000, 'num_leaves': 50}\n",
      "Accuracy Test     : 0.7997714575926866\n"
     ]
    }
   ],
   "source": [
    "# v9\n",
    "modelo_lgbm_Mediano = LGBMClassifier(\n",
    "    random_state=42,\n",
    ")\n",
    "\n",
    "param_grid_lgbm_Mediano = {\n",
    "    'n_estimators': [15000],\n",
    "    'max_depth': [25],\n",
    "    'learning_rate': [0.15],\n",
    "    'num_leaves': [50],\n",
    "}\n",
    "\n",
    "grid_search_lgbm_Mediano = GridSearchCV(\n",
    "    estimator=modelo_lgbm_Mediano,\n",
    "    param_grid=param_grid_lgbm_Mediano,\n",
    "    cv=kf,\n",
    "    scoring=\"accuracy\",\n",
    "    n_jobs=-1,\n",
    "    verbose=3,\n",
    "    )\n",
    "\n",
    "grid_search_lgbm_Mediano.fit(X_M_train, y_M_train)\n",
    "print(f\"Best HyperParameters: {grid_search_lgbm_Mediano.best_params_}\")\n",
    "\n",
    "# Asignar mejor estimador al modelo\n",
    "modelo_lgbm_Mediano = grid_search_lgbm_Mediano.best_estimator_\n",
    "\n",
    "# Resultados sobre test\n",
    "y_M_test_pred = modelo_lgbm_Mediano.predict(X_M_test)\n",
    "accuracy_test = accuracy_score(y_M_test, y_M_test_pred)\n",
    "print(\"Accuracy Test     :\", accuracy_test)"
   ]
  },
  {
   "cell_type": "code",
   "execution_count": 20,
   "id": "6712b15a",
   "metadata": {},
   "outputs": [
    {
     "name": "stdout",
     "output_type": "stream",
     "text": [
      "Número total de árboles             : 15000\n",
      "Profundidad máxima real alcanzada   : 25\n",
      "Profundidad promedio de los árboles : 12.92\n",
      "Máximo número de hojas en un árbol  : 50\n",
      "Promedio de hojas por árbol         : 50.00\n"
     ]
    }
   ],
   "source": [
    "# Extraer todos los árboles\n",
    "trees = modelo_lgbm_Mediano.booster_.dump_model()['tree_info']\n",
    "\n",
    "# Calcular profundidad y hojas de cada árbol\n",
    "depths = []\n",
    "leaves = []\n",
    "for tree in trees:\n",
    "    depth, num_leaves = get_tree_stats(tree['tree_structure'])\n",
    "    depths.append(depth)\n",
    "    leaves.append(num_leaves)\n",
    "\n",
    "# Reporte\n",
    "print(f\"Número total de árboles             : {len(trees)}\")\n",
    "print(f\"Profundidad máxima real alcanzada   : {max(depths)}\")\n",
    "print(f\"Profundidad promedio de los árboles : {sum(depths) / len(depths):.2f}\")\n",
    "print(f\"Máximo número de hojas en un árbol  : {max(leaves)}\")\n",
    "print(f\"Promedio de hojas por árbol         : {sum(leaves) / len(leaves):.2f}\")"
   ]
  },
  {
   "cell_type": "markdown",
   "id": "9ae944e9",
   "metadata": {},
   "source": [
    "#### Pequeño"
   ]
  },
  {
   "cell_type": "code",
   "execution_count": 21,
   "id": "5507ed94",
   "metadata": {},
   "outputs": [],
   "source": [
    "# Objetivo a mejorar, la accuracy del modelo general sólo para estos hoteles\n",
    "# Que fue de un 0.86248857 (Obtenido con subtotales en Excel)"
   ]
  },
  {
   "cell_type": "code",
   "execution_count": 22,
   "id": "91914f38",
   "metadata": {},
   "outputs": [
    {
     "name": "stdout",
     "output_type": "stream",
     "text": [
      "Fitting 5 folds for each of 1 candidates, totalling 5 fits\n",
      "[LightGBM] [Info] Number of positive: 15434, number of negative: 41300\n",
      "[LightGBM] [Info] Auto-choosing row-wise multi-threading, the overhead of testing was 0.004513 seconds.\n",
      "You can set `force_row_wise=true` to remove the overhead.\n",
      "And if memory is not enough, you can set `force_col_wise=true`.\n",
      "[LightGBM] [Info] Total Bins 2705\n",
      "[LightGBM] [Info] Number of data points in the train set: 56734, number of used features: 38\n",
      "[LightGBM] [Info] [binary:BoostFromScore]: pavg=0.272041 -> initscore=-0.984290\n",
      "[LightGBM] [Info] Start training from score -0.984290\n",
      "Best HyperParameters: {'learning_rate': 0.2, 'max_depth': 30, 'n_estimators': 15000, 'num_leaves': 50}\n",
      "Accuracy Test     : 0.8678087986463621\n"
     ]
    }
   ],
   "source": [
    "# v10\n",
    "modelo_lgbm_Pequeno = LGBMClassifier(\n",
    "    random_state=42,\n",
    ")\n",
    "\n",
    "param_grid_lgbm_Pequeno = {\n",
    "    'n_estimators': [15000],\n",
    "    'max_depth': [30],\n",
    "    'learning_rate': [0.2],\n",
    "    'num_leaves': [50],\n",
    "}\n",
    "\n",
    "grid_search_lgbm_Pequeno = GridSearchCV(\n",
    "    estimator=modelo_lgbm_Pequeno,\n",
    "    param_grid=param_grid_lgbm_Pequeno,\n",
    "    cv=kf,\n",
    "    scoring=\"accuracy\",\n",
    "    n_jobs=-1,\n",
    "    verbose=3,\n",
    "    )\n",
    "\n",
    "grid_search_lgbm_Pequeno.fit(X_P_train, y_P_train)\n",
    "print(f\"Best HyperParameters: {grid_search_lgbm_Pequeno.best_params_}\")\n",
    "\n",
    "# Asignar mejor estimador al modelo\n",
    "modelo_lgbm_Pequeno = grid_search_lgbm_Pequeno.best_estimator_\n",
    "\n",
    "# Resultados sobre test\n",
    "y_P_test_pred = modelo_lgbm_Pequeno.predict(X_P_test)\n",
    "accuracy_test = accuracy_score(y_P_test, y_P_test_pred)\n",
    "print(\"Accuracy Test     :\", accuracy_test)"
   ]
  },
  {
   "cell_type": "code",
   "execution_count": 23,
   "id": "b627d485",
   "metadata": {},
   "outputs": [
    {
     "name": "stdout",
     "output_type": "stream",
     "text": [
      "Número total de árboles             : 15000\n",
      "Profundidad máxima real alcanzada   : 29\n",
      "Profundidad promedio de los árboles : 14.26\n",
      "Máximo número de hojas en un árbol  : 50\n",
      "Promedio de hojas por árbol         : 50.00\n"
     ]
    }
   ],
   "source": [
    "# Extraer todos los árboles\n",
    "trees = modelo_lgbm_Pequeno.booster_.dump_model()['tree_info']\n",
    "\n",
    "# Calcular profundidad y hojas de cada árbol\n",
    "depths = []\n",
    "leaves = []\n",
    "for tree in trees:\n",
    "    depth, num_leaves = get_tree_stats(tree['tree_structure'])\n",
    "    depths.append(depth)\n",
    "    leaves.append(num_leaves)\n",
    "\n",
    "# Reporte\n",
    "print(f\"Número total de árboles             : {len(trees)}\")\n",
    "print(f\"Profundidad máxima real alcanzada   : {max(depths)}\")\n",
    "print(f\"Profundidad promedio de los árboles : {sum(depths) / len(depths):.2f}\")\n",
    "print(f\"Máximo número de hojas en un árbol  : {max(leaves)}\")\n",
    "print(f\"Promedio de hojas por árbol         : {sum(leaves) / len(leaves):.2f}\")"
   ]
  },
  {
   "cell_type": "markdown",
   "id": "8d99b017",
   "metadata": {},
   "source": [
    "#### Añadir predicciones a los DFs de test"
   ]
  },
  {
   "cell_type": "code",
   "execution_count": 24,
   "id": "1effbc69",
   "metadata": {},
   "outputs": [],
   "source": [
    "# Hemos superado al moelo único para todo el dataset?df_G_test['ACIERTO'].mean()\n",
    "# Su accuracy era de 0.8141210754066129"
   ]
  },
  {
   "cell_type": "code",
   "execution_count": 25,
   "id": "3b1afe6e",
   "metadata": {},
   "outputs": [],
   "source": [
    "df_G_test = X_G_test.copy()\n",
    "df_G_test['CANCELADA'] = y_G_test\n",
    "df_G_test['CANCELADA_PRED'] = y_G_test_pred\n",
    "df_G_test['ACIERTO'] = (df_G_test['CANCELADA'] == df_G_test['CANCELADA_PRED']).astype(int)"
   ]
  },
  {
   "cell_type": "code",
   "execution_count": 26,
   "id": "cbbf7a48",
   "metadata": {},
   "outputs": [],
   "source": [
    "df_M_test = X_M_test.copy()\n",
    "df_M_test['CANCELADA'] = y_M_test\n",
    "df_M_test['CANCELADA_PRED'] = y_M_test_pred\n",
    "df_M_test['ACIERTO'] = (df_M_test['CANCELADA'] == df_M_test['CANCELADA_PRED']).astype(int)"
   ]
  },
  {
   "cell_type": "code",
   "execution_count": 27,
   "id": "a7557777",
   "metadata": {},
   "outputs": [],
   "source": [
    "df_P_test = X_P_test.copy()\n",
    "df_P_test['CANCELADA'] = y_P_test\n",
    "df_P_test['CANCELADA_PRED'] = y_P_test_pred\n",
    "df_P_test['ACIERTO'] = (df_P_test['CANCELADA'] == df_P_test['CANCELADA_PRED']).astype(int)"
   ]
  },
  {
   "cell_type": "code",
   "execution_count": 28,
   "id": "69146e41",
   "metadata": {},
   "outputs": [],
   "source": [
    "df_test = pd.concat([df_G_test, df_M_test, df_P_test], axis=0)"
   ]
  },
  {
   "cell_type": "code",
   "execution_count": 29,
   "id": "ead61882",
   "metadata": {},
   "outputs": [
    {
     "data": {
      "text/plain": [
       "np.float64(0.8225393774220022)"
      ]
     },
     "execution_count": 29,
     "metadata": {},
     "output_type": "execute_result"
    }
   ],
   "source": [
    "df_test['ACIERTO'].mean()"
   ]
  },
  {
   "cell_type": "code",
   "execution_count": 30,
   "id": "bf3d6469",
   "metadata": {},
   "outputs": [
    {
     "name": "stdout",
     "output_type": "stream",
     "text": [
      "successes = 187423\n"
     ]
    },
    {
     "data": {
      "text/plain": [
       "<sklearn.metrics._plot.confusion_matrix.ConfusionMatrixDisplay at 0x21ac44df0e0>"
      ]
     },
     "execution_count": 30,
     "metadata": {},
     "output_type": "execute_result"
    },
    {
     "data": {
      "image/png": "[encoded data removed]",
      "text/plain": [
       "<Figure size 640x480 with 2 Axes>"
      ]
     },
     "metadata": {},
     "output_type": "display_data"
    }
   ],
   "source": [
    "# Matriz de confusión en Test\n",
    "cm = confusion_matrix(df_test['CANCELADA'], df_test['CANCELADA_PRED'], labels=np.unique(df_test['CANCELADA']))\n",
    "print(f'successes = {np.trace(cm)}')\n",
    "ConfusionMatrixDisplay.from_predictions(df_test['CANCELADA'], df_test['CANCELADA_PRED'], labels=np.unique(df_test['CANCELADA']))"
   ]
  },
  {
   "cell_type": "code",
   "execution_count": null,
   "id": "f20c93db",
   "metadata": {},
   "outputs": [],
   "source": [
    "#df_test.to_csv(r'D:\\DEV\\Python\\00_TFM_PALLADIUM\\02_DATASETS_GENERADOS\\Resultados_test_3stack.csv', index=False, sep=';')"
   ]
  },
  {
   "cell_type": "markdown",
   "id": "3c6e00fc",
   "metadata": {},
   "source": [
    "#### Pickles"
   ]
  },
  {
   "cell_type": "code",
   "execution_count": null,
   "id": "55af67ae",
   "metadata": {},
   "outputs": [],
   "source": [
    "# Cómo usar:\n",
    "\n",
    "# Guardar el mejor modelo directamente\n",
    "#with open(\"modelo_lgbm_Grande.pkl\", \"wb\") as f:\n",
    "#    pickle.dump(modelo_lgbm_Grande, f)\n",
    "\n",
    "# Luego para cargarlo:\n",
    "#with open(\"modelo_lgbm_Grande.pkl\", \"rb\") as f:\n",
    "#    modelo_lgbm_Grande = pickle.load(f)\n",
    "\n",
    "# Predecir\n",
    "#y_pred = modelo_lgbm_Grande.predict(X_test)"
   ]
  },
  {
   "cell_type": "code",
   "execution_count": 34,
   "id": "40b7197c",
   "metadata": {},
   "outputs": [],
   "source": [
    "with open(\"modelo_lgbm_Grande.pkl\", \"wb\") as f:\n",
    "    pickle.dump(modelo_lgbm_Grande, f)\n",
    "\n",
    "with open(\"modelo_lgbm_Mediano.pkl\", \"wb\") as f:\n",
    "    pickle.dump(modelo_lgbm_Mediano, f)\n",
    "\n",
    "with open(\"modelo_lgbm_Pequeno.pkl\", \"wb\") as f:\n",
    "    pickle.dump(modelo_lgbm_Pequeno, f)"
   ]
  },
  {
   "cell_type": "markdown",
   "id": "7371080c",
   "metadata": {},
   "source": [
    "#### Pendiente"
   ]
  },
  {
   "cell_type": "code",
   "execution_count": 35,
   "id": "a3165af1",
   "metadata": {},
   "outputs": [],
   "source": [
    "# SHAP con modelo general\n",
    "    # SAHP Con estos 3 submodelos?\n",
    "\n",
    "# Hacer un dataset combinado estos resultados y los del modelo global"
   ]
  },
  {
   "cell_type": "code",
   "execution_count": 36,
   "id": "fb346c3d",
   "metadata": {},
   "outputs": [],
   "source": [
    "# La mejora en estos casos es asintótica, por lo que necesitaremos cada vez más tiempo, esfuerzo y cómputo para lograr mejoras menores\n",
    "# Creemos que la accuracy en test que tenemos es suficiente para un proyecto como el que tenemos entre manos y empieza a limitar la incertidumbre humana de cada huésped\n",
    "# Con lo cual, guardaremos los mejores modelos en pickles para la puesta en producción... Pero:\n",
    "# La idea es meterlo en un pickle para luego con él hacer el streamlit\n",
    "    # Refitteo al dataset completo? (dentro de la segmentación \"Grande\")\n",
    "        # Por ahora están fitteados al train, con la idea de usar filas concretas para el streamlit y ver que funciona.\n",
    "        # Con datos nuevos o al tuntún sería un brindis al sol\n",
    "        # Y de paso nos ahorramos horas de entrenamiento"
   ]
  }
 ],
 "metadata": {
  "kernelspec": {
   "display_name": "base",
   "language": "python",
   "name": "python3"
  },
  "language_info": {
   "codemirror_mode": {
    "name": "ipython",
    "version": 3
   },
   "file_extension": ".py",
   "mimetype": "text/x-python",
   "name": "python",
   "nbconvert_exporter": "python",
   "pygments_lexer": "ipython3",
   "version": "3.12.7"
  }
 },
 "nbformat": 4,
 "nbformat_minor": 5
}
