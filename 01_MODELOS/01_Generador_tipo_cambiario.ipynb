{
 "cells": [
  {
   "cell_type": "code",
   "execution_count": 1,
   "id": "2fb9513d",
   "metadata": {
    "colab": {
     "base_uri": "https://localhost:8080/"
    },
    "executionInfo": {
     "elapsed": 9362,
     "status": "ok",
     "timestamp": 1749738405045,
     "user": {
      "displayName": "Diego Garcia",
      "userId": "12257724459721390218"
     },
     "user_tz": -120
    },
    "id": "2fb9513d",
    "outputId": "1a94e0c2-310c-40a3-a3c6-739259ee4786"
   },
   "outputs": [
    {
     "name": "stdout",
     "output_type": "stream",
     "text": [
      "Collecting yfinance\n",
      "  Downloading yfinance-0.2.63-py2.py3-none-any.whl.metadata (5.8 kB)\n",
      "Requirement already satisfied: pandas>=1.3.0 in c:\\users\\diego\\appdata\\roaming\\python\\python312\\site-packages (from yfinance) (2.2.3)\n",
      "Requirement already satisfied: numpy>=1.16.5 in c:\\users\\diego\\appdata\\roaming\\python\\python312\\site-packages (from yfinance) (2.1.3)\n",
      "Requirement already satisfied: requests>=2.31 in c:\\users\\diego\\appdata\\roaming\\python\\python312\\site-packages (from yfinance) (2.32.3)\n",
      "Collecting multitasking>=0.0.7 (from yfinance)\n",
      "  Downloading multitasking-0.0.11-py3-none-any.whl.metadata (5.5 kB)\n",
      "Requirement already satisfied: platformdirs>=2.0.0 in c:\\users\\diego\\appdata\\roaming\\python\\python312\\site-packages (from yfinance) (4.3.6)\n",
      "Requirement already satisfied: pytz>=2022.5 in c:\\users\\diego\\appdata\\roaming\\python\\python312\\site-packages (from yfinance) (2025.1)\n",
      "Requirement already satisfied: frozendict>=2.3.4 in c:\\programdata\\anaconda3\\lib\\site-packages (from yfinance) (2.4.2)\n",
      "Collecting peewee>=3.16.2 (from yfinance)\n",
      "  Downloading peewee-3.18.1.tar.gz (3.0 MB)\n",
      "     ---------------------------------------- 0.0/3.0 MB ? eta -:--:--\n",
      "     ---------------------------------------- 3.0/3.0 MB 58.8 MB/s eta 0:00:00\n",
      "  Installing build dependencies: started\n",
      "  Installing build dependencies: finished with status 'done'\n",
      "  Getting requirements to build wheel: started\n",
      "  Getting requirements to build wheel: finished with status 'done'\n",
      "  Preparing metadata (pyproject.toml): started\n",
      "  Preparing metadata (pyproject.toml): finished with status 'done'\n",
      "Requirement already satisfied: beautifulsoup4>=4.11.1 in c:\\programdata\\anaconda3\\lib\\site-packages (from yfinance) (4.12.3)\n",
      "Collecting curl_cffi>=0.7 (from yfinance)\n",
      "  Downloading curl_cffi-0.11.4-cp39-abi3-win_amd64.whl.metadata (14 kB)\n",
      "Requirement already satisfied: protobuf>=3.19.0 in c:\\users\\diego\\appdata\\roaming\\python\\python312\\site-packages (from yfinance) (5.29.3)\n",
      "Collecting websockets>=13.0 (from yfinance)\n",
      "  Downloading websockets-15.0.1-cp312-cp312-win_amd64.whl.metadata (7.0 kB)\n",
      "Requirement already satisfied: soupsieve>1.2 in c:\\programdata\\anaconda3\\lib\\site-packages (from beautifulsoup4>=4.11.1->yfinance) (2.5)\n",
      "Requirement already satisfied: cffi>=1.12.0 in c:\\programdata\\anaconda3\\lib\\site-packages (from curl_cffi>=0.7->yfinance) (1.17.1)\n",
      "Requirement already satisfied: certifi>=2024.2.2 in c:\\users\\diego\\appdata\\roaming\\python\\python312\\site-packages (from curl_cffi>=0.7->yfinance) (2025.1.31)\n",
      "Requirement already satisfied: python-dateutil>=2.8.2 in c:\\users\\diego\\appdata\\roaming\\python\\python312\\site-packages (from pandas>=1.3.0->yfinance) (2.9.0.post0)\n",
      "Requirement already satisfied: tzdata>=2022.7 in c:\\users\\diego\\appdata\\roaming\\python\\python312\\site-packages (from pandas>=1.3.0->yfinance) (2025.1)\n",
      "Requirement already satisfied: charset-normalizer<4,>=2 in c:\\users\\diego\\appdata\\roaming\\python\\python312\\site-packages (from requests>=2.31->yfinance) (3.4.1)\n",
      "Requirement already satisfied: idna<4,>=2.5 in c:\\users\\diego\\appdata\\roaming\\python\\python312\\site-packages (from requests>=2.31->yfinance) (3.10)\n",
      "Requirement already satisfied: urllib3<3,>=1.21.1 in c:\\users\\diego\\appdata\\roaming\\python\\python312\\site-packages (from requests>=2.31->yfinance) (2.3.0)\n",
      "Requirement already satisfied: pycparser in c:\\programdata\\anaconda3\\lib\\site-packages (from cffi>=1.12.0->curl_cffi>=0.7->yfinance) (2.21)\n",
      "Requirement already satisfied: six>=1.5 in c:\\users\\diego\\appdata\\roaming\\python\\python312\\site-packages (from python-dateutil>=2.8.2->pandas>=1.3.0->yfinance) (1.17.0)\n",
      "Downloading yfinance-0.2.63-py2.py3-none-any.whl (118 kB)\n",
      "Downloading curl_cffi-0.11.4-cp39-abi3-win_amd64.whl (1.6 MB)\n",
      "   ---------------------------------------- 0.0/1.6 MB ? eta -:--:--\n",
      "   ---------------------------------------- 1.6/1.6 MB 43.3 MB/s eta 0:00:00\n",
      "Downloading multitasking-0.0.11-py3-none-any.whl (8.5 kB)\n",
      "Downloading websockets-15.0.1-cp312-cp312-win_amd64.whl (176 kB)\n",
      "Building wheels for collected packages: peewee\n",
      "  Building wheel for peewee (pyproject.toml): started\n",
      "  Building wheel for peewee (pyproject.toml): finished with status 'done'\n",
      "  Created wheel for peewee: filename=peewee-3.18.1-py3-none-any.whl size=139097 sha256=ef7d9648a85a8ce35fbb1e63122f99dd6a856c6be26c83e75514c6ca4b1c620a\n",
      "  Stored in directory: c:\\users\\diego\\appdata\\local\\pip\\cache\\wheels\\1a\\57\\6a\\bb71346381d0d911cd4ce3026f1fa720da76707e4f01cf27dd\n",
      "Successfully built peewee\n",
      "Installing collected packages: peewee, multitasking, websockets, curl_cffi, yfinance\n",
      "Successfully installed curl_cffi-0.11.4 multitasking-0.0.11 peewee-3.18.1 websockets-15.0.1 yfinance-0.2.63\n"
     ]
    }
   ],
   "source": [
    "!pip install yfinance"
   ]
  },
  {
   "cell_type": "code",
   "execution_count": 3,
   "id": "ebad68d4",
   "metadata": {
    "executionInfo": {
     "elapsed": 2652,
     "status": "ok",
     "timestamp": 1749738412784,
     "user": {
      "displayName": "Diego Garcia",
      "userId": "12257724459721390218"
     },
     "user_tz": -120
    },
    "id": "ebad68d4"
   },
   "outputs": [],
   "source": [
    "import yfinance as yf\n",
    "import pandas as pd"
   ]
  },
  {
   "cell_type": "code",
   "execution_count": 4,
   "id": "4efe0f13",
   "metadata": {
    "executionInfo": {
     "elapsed": 10,
     "status": "ok",
     "timestamp": 1749738415807,
     "user": {
      "displayName": "Diego Garcia",
      "userId": "12257724459721390218"
     },
     "user_tz": -120
    },
    "id": "4efe0f13"
   },
   "outputs": [],
   "source": [
    "# Deslimitar display Pandas\n",
    "\n",
    "pd.set_option('display.max_columns', None)\n",
    "pd.set_option('display.max_rows', None)\n",
    "pd.set_option('display.max_colwidth', None)"
   ]
  },
  {
   "cell_type": "code",
   "execution_count": 5,
   "id": "6bea59b2",
   "metadata": {
    "executionInfo": {
     "elapsed": 11,
     "status": "ok",
     "timestamp": 1749738417000,
     "user": {
      "displayName": "Diego Garcia",
      "userId": "12257724459721390218"
     },
     "user_tz": -120
    },
    "id": "6bea59b2"
   },
   "outputs": [],
   "source": [
    "#Creamos DataFrame vacío\n",
    "df_USD_X = pd.DataFrame()\n",
    "\n",
    "# Creamos el rango de fechas para los años 2202 y 2023\n",
    "# Tomamos algo de margen para tener datos al inicio de 2022 y para salidas en 2024 que entraron a final de 2023\n",
    "primera_fecha = '2018-01-01'\n",
    "ultima_fecha = '2024-02-01' # Comprobado y no es fin de semana, no empezaremos con nan\n",
    "df_USD_X['FECHA'] = pd.date_range(start = primera_fecha, end = ultima_fecha, freq='D')"
   ]
  },
  {
   "cell_type": "code",
   "execution_count": 6,
   "id": "94bf77dd",
   "metadata": {
    "colab": {
     "base_uri": "https://localhost:8080/"
    },
    "executionInfo": {
     "elapsed": 18,
     "status": "ok",
     "timestamp": 1749738419395,
     "user": {
      "displayName": "Diego Garcia",
      "userId": "12257724459721390218"
     },
     "user_tz": -120
    },
    "id": "94bf77dd",
    "outputId": "28388f06-a4cf-4c1c-9d3d-fd4b44c0da29"
   },
   "outputs": [
    {
     "data": {
      "text/plain": [
       "['JMD', 'DOP', 'MXN', 'BRL']"
      ]
     },
     "execution_count": 6,
     "metadata": {},
     "output_type": "execute_result"
    }
   ],
   "source": [
    "# Monedas de las que queremos obtener el tipo\n",
    "# ['Dolar', '', 'Real', 'Dolarjamaicano', 'PesoDominicano']\n",
    "lista_monedas = [\n",
    "    'JMD', # Dolar Jamaicano\n",
    "    'DOP', # Peso Dominicano\n",
    "    'MXN', # Peso Mexicano\n",
    "    'BRL', # Real Brasileño\n",
    "]\n",
    "\n",
    "# Para el dolar ponemos un 1 en toda la columna\n",
    "df_USD_X['USD'] = 1\n",
    "\n",
    "lista_monedas"
   ]
  },
  {
   "cell_type": "code",
   "execution_count": 7,
   "id": "a806f1c9",
   "metadata": {
    "colab": {
     "base_uri": "https://localhost:8080/"
    },
    "executionInfo": {
     "elapsed": 1443,
     "status": "ok",
     "timestamp": 1749738423498,
     "user": {
      "displayName": "Diego Garcia",
      "userId": "12257724459721390218"
     },
     "user_tz": -120
    },
    "id": "a806f1c9",
    "outputId": "af7ed6ec-b77c-4e4d-cfed-ffa6df05bb26"
   },
   "outputs": [
    {
     "name": "stderr",
     "output_type": "stream",
     "text": [
      "C:\\Users\\Diego\\AppData\\Local\\Temp\\ipykernel_15604\\364419150.py:6: FutureWarning: YF.download() has changed argument auto_adjust default to True\n",
      "  df_moneda = yf.download(f\"{moneda}=X\", start = primera_fecha, end = ultima_fecha, interval=\"1d\")\n",
      "[*********************100%***********************]  1 of 1 completed\n",
      "C:\\Users\\Diego\\AppData\\Local\\Temp\\ipykernel_15604\\364419150.py:6: FutureWarning: YF.download() has changed argument auto_adjust default to True\n",
      "  df_moneda = yf.download(f\"{moneda}=X\", start = primera_fecha, end = ultima_fecha, interval=\"1d\")\n",
      "[*********************100%***********************]  1 of 1 completed\n",
      "C:\\Users\\Diego\\AppData\\Local\\Temp\\ipykernel_15604\\364419150.py:6: FutureWarning: YF.download() has changed argument auto_adjust default to True\n",
      "  df_moneda = yf.download(f\"{moneda}=X\", start = primera_fecha, end = ultima_fecha, interval=\"1d\")\n",
      "[*********************100%***********************]  1 of 1 completed\n",
      "C:\\Users\\Diego\\AppData\\Local\\Temp\\ipykernel_15604\\364419150.py:6: FutureWarning: YF.download() has changed argument auto_adjust default to True\n",
      "  df_moneda = yf.download(f\"{moneda}=X\", start = primera_fecha, end = ultima_fecha, interval=\"1d\")\n",
      "[*********************100%***********************]  1 of 1 completed\n"
     ]
    }
   ],
   "source": [
    "# Creación de las columnas para cada moneda\n",
    "\n",
    "for moneda in lista_monedas:\n",
    "\n",
    "    # Descargar datos\n",
    "    df_moneda = yf.download(f\"{moneda}=X\", start = primera_fecha, end = ultima_fecha, interval=\"1d\")\n",
    "    df_moneda = df_moneda[['Close']]\n",
    "\n",
    "    # Reindexar para tener todos los días del año\n",
    "    df_moneda = df_moneda.reindex(df_USD_X['FECHA'])\n",
    "\n",
    "    # Rellenar valores faltantes con el último valor disponible hacia adelante (forward fill) para fines de semana y festivos\n",
    "    df_moneda['Close'] = df_moneda['Close'].ffill()\n",
    "\n",
    "    # Quitar multiindex\n",
    "    df_moneda = pd.DataFrame(df_moneda.values)\n",
    "\n",
    "    # Nombro la columna\n",
    "    df_moneda.columns = [f\"{moneda}\"]\n",
    "\n",
    "    # Concatenación\n",
    "    df_USD_X = pd.concat([df_USD_X, df_moneda], axis=1)"
   ]
  },
  {
   "cell_type": "code",
   "execution_count": 8,
   "id": "0b7b29d2",
   "metadata": {
    "colab": {
     "base_uri": "https://localhost:8080/",
     "height": 380
    },
    "executionInfo": {
     "elapsed": 72,
     "status": "ok",
     "timestamp": 1749738426568,
     "user": {
      "displayName": "Diego Garcia",
      "userId": "12257724459721390218"
     },
     "user_tz": -120
    },
    "id": "0b7b29d2",
    "outputId": "7fe8181d-1071-41ef-caf9-b8d7b8c97f46"
   },
   "outputs": [
    {
     "name": "stdout",
     "output_type": "stream",
     "text": [
      "Un USD equivale a:\n"
     ]
    },
    {
     "data": {
      "text/html": [
       "<div>\n",
       "<style scoped>\n",
       "    .dataframe tbody tr th:only-of-type {\n",
       "        vertical-align: middle;\n",
       "    }\n",
       "\n",
       "    .dataframe tbody tr th {\n",
       "        vertical-align: top;\n",
       "    }\n",
       "\n",
       "    .dataframe thead th {\n",
       "        text-align: right;\n",
       "    }\n",
       "</style>\n",
       "<table border=\"1\" class=\"dataframe\">\n",
       "  <thead>\n",
       "    <tr style=\"text-align: right;\">\n",
       "      <th></th>\n",
       "      <th>FECHA</th>\n",
       "      <th>USD</th>\n",
       "      <th>JMD</th>\n",
       "      <th>DOP</th>\n",
       "      <th>MXN</th>\n",
       "      <th>BRL</th>\n",
       "    </tr>\n",
       "  </thead>\n",
       "  <tbody>\n",
       "    <tr>\n",
       "      <th>0</th>\n",
       "      <td>2018-01-01</td>\n",
       "      <td>1</td>\n",
       "      <td>122.900002</td>\n",
       "      <td>47.618999</td>\n",
       "      <td>19.650850</td>\n",
       "      <td>3.3076</td>\n",
       "    </tr>\n",
       "    <tr>\n",
       "      <th>1</th>\n",
       "      <td>2018-01-02</td>\n",
       "      <td>1</td>\n",
       "      <td>122.779999</td>\n",
       "      <td>47.743000</td>\n",
       "      <td>19.497400</td>\n",
       "      <td>3.3110</td>\n",
       "    </tr>\n",
       "    <tr>\n",
       "      <th>2</th>\n",
       "      <td>2018-01-03</td>\n",
       "      <td>1</td>\n",
       "      <td>122.849998</td>\n",
       "      <td>47.734001</td>\n",
       "      <td>19.351101</td>\n",
       "      <td>3.2578</td>\n",
       "    </tr>\n",
       "    <tr>\n",
       "      <th>3</th>\n",
       "      <td>2018-01-04</td>\n",
       "      <td>1</td>\n",
       "      <td>122.540001</td>\n",
       "      <td>47.733002</td>\n",
       "      <td>19.306971</td>\n",
       "      <td>3.2355</td>\n",
       "    </tr>\n",
       "    <tr>\n",
       "      <th>4</th>\n",
       "      <td>2018-01-05</td>\n",
       "      <td>1</td>\n",
       "      <td>122.379997</td>\n",
       "      <td>47.886002</td>\n",
       "      <td>19.174000</td>\n",
       "      <td>3.2331</td>\n",
       "    </tr>\n",
       "    <tr>\n",
       "      <th>5</th>\n",
       "      <td>2018-01-06</td>\n",
       "      <td>1</td>\n",
       "      <td>122.379997</td>\n",
       "      <td>47.886002</td>\n",
       "      <td>19.174000</td>\n",
       "      <td>3.2331</td>\n",
       "    </tr>\n",
       "    <tr>\n",
       "      <th>6</th>\n",
       "      <td>2018-01-07</td>\n",
       "      <td>1</td>\n",
       "      <td>122.379997</td>\n",
       "      <td>47.886002</td>\n",
       "      <td>19.174000</td>\n",
       "      <td>3.2331</td>\n",
       "    </tr>\n",
       "    <tr>\n",
       "      <th>7</th>\n",
       "      <td>2018-01-08</td>\n",
       "      <td>1</td>\n",
       "      <td>122.739998</td>\n",
       "      <td>47.866001</td>\n",
       "      <td>19.192120</td>\n",
       "      <td>3.2266</td>\n",
       "    </tr>\n",
       "    <tr>\n",
       "      <th>8</th>\n",
       "      <td>2018-01-09</td>\n",
       "      <td>1</td>\n",
       "      <td>122.680000</td>\n",
       "      <td>47.755001</td>\n",
       "      <td>19.244680</td>\n",
       "      <td>3.2390</td>\n",
       "    </tr>\n",
       "    <tr>\n",
       "      <th>9</th>\n",
       "      <td>2018-01-10</td>\n",
       "      <td>1</td>\n",
       "      <td>122.220001</td>\n",
       "      <td>48.019001</td>\n",
       "      <td>19.263000</td>\n",
       "      <td>3.2468</td>\n",
       "    </tr>\n",
       "  </tbody>\n",
       "</table>\n",
       "</div>"
      ],
      "text/plain": [
       "       FECHA  USD         JMD        DOP        MXN     BRL\n",
       "0 2018-01-01    1  122.900002  47.618999  19.650850  3.3076\n",
       "1 2018-01-02    1  122.779999  47.743000  19.497400  3.3110\n",
       "2 2018-01-03    1  122.849998  47.734001  19.351101  3.2578\n",
       "3 2018-01-04    1  122.540001  47.733002  19.306971  3.2355\n",
       "4 2018-01-05    1  122.379997  47.886002  19.174000  3.2331\n",
       "5 2018-01-06    1  122.379997  47.886002  19.174000  3.2331\n",
       "6 2018-01-07    1  122.379997  47.886002  19.174000  3.2331\n",
       "7 2018-01-08    1  122.739998  47.866001  19.192120  3.2266\n",
       "8 2018-01-09    1  122.680000  47.755001  19.244680  3.2390\n",
       "9 2018-01-10    1  122.220001  48.019001  19.263000  3.2468"
      ]
     },
     "execution_count": 8,
     "metadata": {},
     "output_type": "execute_result"
    }
   ],
   "source": [
    "# Ya tenemos el DF de conversión\n",
    "\n",
    "print(\"Un USD equivale a:\")\n",
    "df_USD_X.head(10)"
   ]
  },
  {
   "cell_type": "code",
   "execution_count": 9,
   "id": "1b0b8177",
   "metadata": {
    "executionInfo": {
     "elapsed": 35,
     "status": "ok",
     "timestamp": 1749738436308,
     "user": {
      "displayName": "Diego Garcia",
      "userId": "12257724459721390218"
     },
     "user_tz": -120
    },
    "id": "1b0b8177"
   },
   "outputs": [],
   "source": [
    "df_USD_X.to_csv(r'D:\\DEV\\Python\\00_TFM_PALLADIUM\\02_DATASETS_GENERADOS\\USD_X.csv', index=False)"
   ]
  }
 ],
 "metadata": {
  "colab": {
   "provenance": []
  },
  "kernelspec": {
   "display_name": "base",
   "language": "python",
   "name": "python3"
  },
  "language_info": {
   "codemirror_mode": {
    "name": "ipython",
    "version": 3
   },
   "file_extension": ".py",
   "mimetype": "text/x-python",
   "name": "python",
   "nbconvert_exporter": "python",
   "pygments_lexer": "ipython3",
   "version": "3.12.7"
  }
 },
 "nbformat": 4,
 "nbformat_minor": 5
}
