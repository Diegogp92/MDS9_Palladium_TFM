{
 "cells": [
  {
   "cell_type": "code",
   "execution_count": 2,
   "id": "4b878ad5",
   "metadata": {
    "executionInfo": {
     "elapsed": 5,
     "status": "ok",
     "timestamp": 1749738017670,
     "user": {
      "displayName": "Diego Garcia",
      "userId": "12257724459721390218"
     },
     "user_tz": -120
    },
    "id": "4b878ad5"
   },
   "outputs": [],
   "source": [
    "import pandas as pd\n",
    "import unicodedata\n",
    "import re"
   ]
  },
  {
   "cell_type": "code",
   "execution_count": 4,
   "id": "82175aad",
   "metadata": {
    "colab": {
     "base_uri": "https://localhost:8080/"
    },
    "executionInfo": {
     "elapsed": 24,
     "status": "ok",
     "timestamp": 1749738020136,
     "user": {
      "displayName": "Diego Garcia",
      "userId": "12257724459721390218"
     },
     "user_tz": -120
    },
    "id": "82175aad",
    "outputId": "35d3d3c0-2d66-4e63-c145-3a00a9703ea8"
   },
   "outputs": [
    {
     "name": "stderr",
     "output_type": "stream",
     "text": [
      "C:\\Users\\Diego\\AppData\\Local\\Temp\\ipykernel_16308\\3816988848.py:4: FutureWarning: DataFrame.applymap has been deprecated. Use DataFrame.map instead.\n",
      "  df = df.applymap(lambda x: re.sub(r'\\s+', '', unicodedata.normalize('NFKD', str(x)).encode('ASCII', 'ignore').decode('utf-8')))\n"
     ]
    }
   ],
   "source": [
    "# Hoteles\n",
    "\n",
    "df = pd.read_csv(r'D:\\DEV\\Python\\00_TFM_PALLADIUM\\00_DESCARGAS\\Hoteles.csv', sep=';')\n",
    "df = df.applymap(lambda x: re.sub(r'\\s+', '', unicodedata.normalize('NFKD', str(x)).encode('ASCII', 'ignore').decode('utf-8')))\n",
    "df.to_csv(r'D:\\DEV\\Python\\00_TFM_PALLADIUM\\02_DATASETS_GENERADOS\\Hoteles_std.csv', index=False, sep=';')"
   ]
  },
  {
   "cell_type": "code",
   "execution_count": 6,
   "id": "a3ec8864",
   "metadata": {
    "colab": {
     "base_uri": "https://localhost:8080/"
    },
    "executionInfo": {
     "elapsed": 160473,
     "status": "ok",
     "timestamp": 1749738186308,
     "user": {
      "displayName": "Diego Garcia",
      "userId": "12257724459721390218"
     },
     "user_tz": -120
    },
    "id": "a3ec8864",
    "outputId": "52f3f045-fd34-4085-95e3-e16c08985bb1"
   },
   "outputs": [
    {
     "name": "stderr",
     "output_type": "stream",
     "text": [
      "C:\\Users\\Diego\\AppData\\Local\\Temp\\ipykernel_16308\\1762460406.py:4: FutureWarning: DataFrame.applymap has been deprecated. Use DataFrame.map instead.\n",
      "  df = df.applymap(lambda x: re.sub(r'\\s+', '', unicodedata.normalize('NFKD', str(x)).encode('ASCII', 'ignore').decode('utf-8')))\n"
     ]
    }
   ],
   "source": [
    "# Reservas\n",
    "\n",
    "df = pd.read_csv(r'D:\\DEV\\Python\\00_TFM_PALLADIUM\\00_DESCARGAS\\Reservas_22_23.csv', sep=';', decimal='.')\n",
    "df = df.applymap(lambda x: re.sub(r'\\s+', '', unicodedata.normalize('NFKD', str(x)).encode('ASCII', 'ignore').decode('utf-8')))\n",
    "df.to_csv(r'D:\\DEV\\Python\\00_TFM_PALLADIUM\\02_DATASETS_GENERADOS\\Reservas_22_23_std.csv', index=False, sep=';', decimal='.')"
   ]
  }
 ],
 "metadata": {
  "colab": {
   "provenance": []
  },
  "kernelspec": {
   "display_name": "base",
   "language": "python",
   "name": "python3"
  },
  "language_info": {
   "codemirror_mode": {
    "name": "ipython",
    "version": 3
   },
   "file_extension": ".py",
   "mimetype": "text/x-python",
   "name": "python",
   "nbconvert_exporter": "python",
   "pygments_lexer": "ipython3",
   "version": "3.12.7"
  }
 },
 "nbformat": 4,
 "nbformat_minor": 5
}
